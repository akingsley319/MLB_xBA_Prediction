{
 "cells": [
  {
   "cell_type": "code",
   "execution_count": 1,
   "id": "4622b4c0-3d66-4108-b552-2adbf29a93f4",
   "metadata": {},
   "outputs": [
    {
     "data": {
      "text/html": [
       "<style>.container { width:95% !important; }</style>"
      ],
      "text/plain": [
       "<IPython.core.display.HTML object>"
      ]
     },
     "metadata": {},
     "output_type": "display_data"
    }
   ],
   "source": [
    "from IPython.core.display import display, HTML\n",
    "display(HTML(\"<style>.container { width:95% !important; }</style>\"))"
   ]
  },
  {
   "cell_type": "code",
   "execution_count": 3,
   "id": "9c682cec-027b-4fc0-b9fa-4c4a85c90bce",
   "metadata": {},
   "outputs": [],
   "source": [
    "import pandas as pd\n",
    "import numpy as np\n",
    "\n",
    "from statsmodels.tsa.stattools import adfuller\n",
    "from statsmodels.tsa.api import VAR\n",
    "from statsmodels.tools.eval_measures import rmse, aic\n",
    "\n",
    "import matplotlib\n",
    "import matplotlib.pyplot as plt\n",
    "%matplotlib inline  "
   ]
  },
  {
   "cell_type": "markdown",
   "id": "c6b54ab0-2adb-44c3-94f5-41ff226ec41b",
   "metadata": {},
   "source": [
    "# Model Selection\n",
    "\n",
    "For this part of the project, I am attempting to employ time series analysis of performance on multiple samples/players simultaneously. Due to the parrallel nature of this prediction, my options are reduced to some degree. After modeling pitcher and batter forecasting based on recent performance, the goal is to insert the results into another model along with additional information. The primary optionas are as follows:\n",
    "\n",
    "* AR, MA, ARMA, ARIMA, SARIMA: These are the most traditional models, and will be worthwhile looking into.\n",
    "* Holt-Winters: While not as commonly referenced as ARMA, this approach still sees decent use. It is the best version of Exponential Smoothing.\n",
    "* VAR, VMA, and VARMA: These are adjustments to the traditional ARIMA model which allow for additional exogeneous variables. The main assumption is that different time series can affect each other. While this might be true for pitchers and batters, it is rather difficult to incorporate this. This could something I test later on when I fully assemble the model, but will be a test for this model at this stage as well.\n",
    "* Hierarchical Forecasting: This follows grouping of like groups for each forecasting model it uses, but this is difficult to employ for a few reasons. One, the pitchers and batters themselves are difficult to cluster. This essentially follows a cluster of a cluster of a cluster approach, because pitch arsenals are represented by a soft cluster of individual pitcher repertoire clusters. While this is true, there might be a way to cluster performance rather than base the cluster off of pitches seen/thrown. Two, it is difficult to employ this strategy to pitchers who have no previous data. However, the largest cluster's or the most averaged cluster's model can be used in this situation. The main benefit of using this method is diversity in models. This would allow for more traditional models being used, such as ARIMA/SARIMA, TBATS, and Holt-Winters Forecasting.\n",
    "* Neural Nets: This is the most appealing to use, but because it is supposed to be good at finding patterns, I have to wonder about how much prior setup that I have done for other models and that I am currently doing that I can discard. While this seems like a good choice due to the high number of available variables, this would bypass much of the work I have already done. I would instead just insert the condensed versions of pitcher and batter condensed game files along with any other variables that are deemed correlated into the NN, making this step pointless. As such, Neural Nets such as Long-Short Term Memory (LSTM) are not ideal at this point in the process, because they will have no other completed models to compete against.\n",
    "\n",
    "I will look into a few combinations of variables to insert into the model, all of which might influence the time series, and are not influenced by the time series itself. This includes the relevant player id, game date, and the target variable ('estimated_ba_using_speedangle'). Another option to include the home field, which would attempt to account for park factors. The question becomes whether to include this factor in at this step, for the final step. If this is included at this step, I should attempt to account for park factors in my model so I can get an accurate performance measurement."
   ]
  },
  {
   "cell_type": "markdown",
   "id": "341cfc37-0257-4a6c-8e9f-22022bd78447",
   "metadata": {},
   "source": [
    "## Batters\n",
    "\n",
    "I will start by forecasting batters. This involves condensing each pitch thrown into an atbat, where the clustered pitcher attributes are weighted. At this point in time, only the final pitch of the at bat is considered, as it is the most important pitch thrown. However, future versions of this model might involve inclusion of previous pitches in the atbat. Pitches thrown is also calculated.\n",
    "\n",
    "Then atbats are condensed into game representation. This involves calculating an overall estimated batting average, which is the target variable of this exercise. This is calculated similar to actual batting average. Strikeouts count as 0.0, while walks, hit by pitch, and catcher intereference are not counted toward the estimated average. However, the main difference comes from handling of errors. In this model, the result of play is irrelevant, so all balls put into play are considered positively toward the average. This means that field outs and errors with high estimated batting average can still contribute poisitively toward the estimated batting average, while a ball that drops in for a hit might have the opposite effect. This score is based entirely on quality of contact and the likelihood that a hit is achieved."
   ]
  },
  {
   "cell_type": "code",
   "execution_count": 4,
   "id": "02fcbe15-fdb9-4b11-9930-a3f35ff6c9e5",
   "metadata": {},
   "outputs": [],
   "source": [
    "train_set = pd.read_csv('data/train/batters_condensed_train.csv')\n",
    "test_set = pd.read_csv('data/test/batters_condensed_test.csv')"
   ]
  },
  {
   "cell_type": "code",
   "execution_count": 5,
   "id": "2b981c59-3ff8-4f6a-ac2c-a4f8dac0cb1d",
   "metadata": {},
   "outputs": [],
   "source": [
    "train_set.fillna(0, inplace=True)\n",
    "test_set.fillna(0, inplace=True)"
   ]
  },
  {
   "cell_type": "code",
   "execution_count": 6,
   "id": "ffc0da05-d2b7-49a6-8d80-313cb4f34123",
   "metadata": {},
   "outputs": [],
   "source": [
    "team_list = list(train_set.home_team.unique())\n",
    "\n",
    "train_set['home_team'] = train_set['home_team'].apply(lambda x: team_list.index(x))\n",
    "train_set = train_set.reindex()"
   ]
  },
  {
   "cell_type": "code",
   "execution_count": 7,
   "id": "c21460e8-e1f8-4b98-947c-cda3a91547b3",
   "metadata": {},
   "outputs": [],
   "source": [
    "endog = ['estimated_ba_using_speedangle']\n",
    "exog = ['home_team','batter']"
   ]
  },
  {
   "cell_type": "code",
   "execution_count": 8,
   "id": "f75c42c3-4f8a-4716-b1a7-8ef564aaab95",
   "metadata": {},
   "outputs": [],
   "source": [
    "model_col = ['batter','estimated_ba_using_speedangle','home_team','game_date']\n",
    "\n",
    "train = train_set[model_col].copy()\n",
    "test = test_set[model_col].copy()"
   ]
  },
  {
   "cell_type": "code",
   "execution_count": 9,
   "id": "d8f1580a-9da3-4215-8612-6dd59ad23c9e",
   "metadata": {},
   "outputs": [],
   "source": [
    "train_set[endog] = train_set[endog].astype('float')\n",
    "#train_set[exog] = train_set[exog].astype('int')\n",
    "train_set['game_date'] = train_set['game_date'].apply(pd.to_datetime)\n",
    "\n",
    "test_set[endog] = test_set[endog].astype('float')\n",
    "#test_set[exog] = test_set[exog].astype('int')\n",
    "test_set['game_date'] = test_set['game_date'].apply(pd.to_datetime)"
   ]
  },
  {
   "cell_type": "markdown",
   "id": "904270f5-d4f8-48d0-802e-e1c3ab5d39e1",
   "metadata": {},
   "source": [
    "The following steps are to give each unique batter their own row containing their estimated_ba_using_speedangle. This should allow us to perform time series forecasting for each batter with accurate step motion."
   ]
  },
  {
   "cell_type": "code",
   "execution_count": 17,
   "id": "dce8f059-c3ab-4c57-99e6-ebcbdc625081",
   "metadata": {},
   "outputs": [
    {
     "name": "stdout",
     "output_type": "stream",
     "text": [
      "50/615\n",
      "100/615\n",
      "150/615\n",
      "200/615\n",
      "250/615\n",
      "300/615\n",
      "350/615\n",
      "400/615\n",
      "450/615\n",
      "500/615\n",
      "550/615\n",
      "600/615\n"
     ]
    }
   ],
   "source": [
    "batters_train = train_set.batter.unique().tolist()\n",
    "batters_test = test_set.batter.unique().tolist()\n",
    "batters = np.unique(batters_train + batters_test)\n",
    "dates = train.game_date.unique()\n",
    "\n",
    "train_final = pd.DataFrame()\n",
    "max_counter = len(train_set.game_date.unique())\n",
    "counter = 0\n",
    "\n",
    "for date in dates:\n",
    "    val_dict = {}\n",
    "    val_dict['game_date'] = date\n",
    "    game_batter_list = train[train.game_date==date].batter.unique()\n",
    "    for batter in batters:\n",
    "        if batter in game_batter_list:\n",
    "            mask = (train.batter == batter) & (train.game_date == date)\n",
    "            val_dict[batter] = train.loc[mask,'estimated_ba_using_speedangle'].to_numpy()[0]\n",
    "        else:\n",
    "            val_dict[batter] = None\n",
    "    \n",
    "    train_final = train_final.append(val_dict,ignore_index=True)\n",
    "    \n",
    "    counter += 1\n",
    "    if counter%50 == 0:\n",
    "        print(str(counter) +\"/\"+ str(max_counter))"
   ]
  },
  {
   "cell_type": "code",
   "execution_count": 26,
   "id": "e8094b6a-0e20-4238-8259-b13b572a515c",
   "metadata": {},
   "outputs": [
    {
     "name": "stdout",
     "output_type": "stream",
     "text": [
      "10/182\n",
      "20/182\n",
      "30/182\n",
      "40/182\n",
      "50/182\n",
      "60/182\n",
      "70/182\n",
      "80/182\n",
      "90/182\n",
      "100/182\n",
      "110/182\n",
      "120/182\n",
      "130/182\n",
      "140/182\n",
      "150/182\n",
      "160/182\n",
      "170/182\n",
      "180/182\n"
     ]
    }
   ],
   "source": [
    "dates = test.game_date.unique()\n",
    "\n",
    "test_final = pd.DataFrame()\n",
    "max_counter = len(test_set.game_date.unique())\n",
    "counter = 0\n",
    "\n",
    "for date in dates:\n",
    "    val_dict = {}\n",
    "    val_dict['game_date'] = date\n",
    "    game_batter_list = test[test.game_date==date].batter.unique()\n",
    "    for batter in batters:\n",
    "        if batter in game_batter_list:\n",
    "            mask = (test.batter == batter) & (test.game_date == date)\n",
    "            val_dict[batter] = test.loc[mask,'estimated_ba_using_speedangle'].to_numpy()[0]\n",
    "        else:\n",
    "            val_dict[batter] = None\n",
    "    \n",
    "    counter += 1\n",
    "    if counter%10 == 0:\n",
    "        print(str(counter) +\"/\"+ str(max_counter))\n",
    "    test_final = test_final.append(val_dict,ignore_index=True)"
   ]
  },
  {
   "cell_type": "markdown",
   "id": "cd777330-7b61-4b96-800d-5d50a8d80813",
   "metadata": {},
   "source": [
    "Next, lets make the date_time the index for ease of use when performing time series analysis and save the files."
   ]
  },
  {
   "cell_type": "code",
   "execution_count": 35,
   "id": "aa8033b2-9997-477a-b48d-62885c1681e6",
   "metadata": {},
   "outputs": [],
   "source": [
    "train_done = train_final.set_index('game_date')\n",
    "test_done = test_final.set_index('game_date')"
   ]
  },
  {
   "cell_type": "code",
   "execution_count": 31,
   "id": "4d1f7986-77df-499d-8189-1423b8ff238a",
   "metadata": {},
   "outputs": [],
   "source": [
    "\n",
    "test_done = test_final.set_index('game_date')\n",
    "\n",
    "#pd.DatetimeIndex(train_set.index).to_period('D')\n",
    "#pd.DatetimeIndex(test_set.index).to_period('D')"
   ]
  },
  {
   "cell_type": "code",
   "execution_count": 37,
   "id": "20d05566-13f2-467e-9643-728e671bb157",
   "metadata": {},
   "outputs": [],
   "source": [
    "train_done.to_csv('data/train/forecast_train.csv')\n",
    "test_done.to_csv('data/test/forecast_test.csv')"
   ]
  },
  {
   "cell_type": "markdown",
   "id": "8f286ead-11d4-497a-8452-ecb7c374a257",
   "metadata": {},
   "source": [
    "### Data Preparation\n",
    "\n",
    "The Addley-Fuller Test will be employed to ensure stationary data. While expect the data to be stationary, it is still best to check. This is a requirement for many time series models."
   ]
  },
  {
   "cell_type": "code",
   "execution_count": 61,
   "id": "8026572c-1c3f-4984-bdf5-e80a9e9767ff",
   "metadata": {},
   "outputs": [],
   "source": [
    "batters_limit = []\n",
    "\n",
    "for batter in train_done.columns:\n",
    "    if len(train_done[batter].dropna().index) > 100:\n",
    "        batters_limit.append(batter)\n",
    "\n"
   ]
  },
  {
   "cell_type": "code",
   "execution_count": 69,
   "id": "2e6cd99b-488a-478f-b88c-ffcb73f84057",
   "metadata": {},
   "outputs": [],
   "source": [
    "p_vals = []\n",
    "\n",
    "for batter in batters_limit:\n",
    "    temp_df = train_done[batter].dropna()\n",
    "    if len(temp_df.index) > 100:\n",
    "        adf, pval, usedlag, nobs, crit_vals, icbest = adfuller(temp_df)\n",
    "    p_vals.append(pval)"
   ]
  },
  {
   "cell_type": "code",
   "execution_count": 70,
   "id": "fb4257f3-3733-49ad-a9b3-ea5b5416b32a",
   "metadata": {},
   "outputs": [
    {
     "name": "stdout",
     "output_type": "stream",
     "text": [
      "max p-value: 0.422539524082608\n",
      "min p-value: 0.0\n"
     ]
    }
   ],
   "source": [
    "print(\"max p-value: \" + str(max(p_vals)))\n",
    "print(\"min p-value: \" + str(min(p_vals)))"
   ]
  },
  {
   "cell_type": "code",
   "execution_count": 71,
   "id": "1de8a6e5-63c1-4c9d-bd80-32bf45292f5a",
   "metadata": {},
   "outputs": [
    {
     "data": {
      "image/png": "[encoded data removed]",
      "text/plain": [
       "<Figure size 432x288 with 1 Axes>"
      ]
     },
     "metadata": {
      "needs_background": "light"
     },
     "output_type": "display_data"
    }
   ],
   "source": [
    "bins = np.arange(0, 1, 0.05) # fixed bin size\n",
    "\n",
    "plt.xlim([min(p_vals)-0.05, max(p_vals)+0.05])\n",
    "\n",
    "plt.hist(p_vals, bins=bins, alpha=0.5)\n",
    "plt.title('Stationarity P-Values (fixed bin size)')\n",
    "plt.xlabel('p-value (bin size = 0.025)')\n",
    "plt.ylabel('count')\n",
    "\n",
    "plt.show()"
   ]
  },
  {
   "cell_type": "markdown",
   "id": "ff8510b6-581d-4f33-92ab-388d94cb1b9a",
   "metadata": {
    "tags": []
   },
   "source": [
    "As expected, this data is fully stationary. There does appear to be a few cases where stationarity is not upheld, but because it is the vast minority, I am willing to assume that it is stationary and will proceed.\n",
    "\n",
    "### VAR\n",
    "\n",
    "VAR will be the first tested model type."
   ]
  },
  {
   "cell_type": "code",
   "execution_count": 54,
   "id": "9ea827c4-fd06-42e8-9923-c70b20159e2e",
   "metadata": {},
   "outputs": [],
   "source": [
    "def var_lag(data):\n",
    "    model = VAR(data.values)\n",
    "    results = []\n",
    "        \n",
    "    for i in [1,2,3,4,5,6,7,8,9,10]:\n",
    "        result = model.fit(i)\n",
    "        results.append(result.aic)\n",
    "        \n",
    "        if i > 2:\n",
    "            if results[-1] > results[-2]:\n",
    "                if results[-2] > results[-3]:\n",
    "                    return (i-2), results[-3]\n",
    "        \n",
    "    return 10, results[-1]"
   ]
  },
  {
   "cell_type": "code",
   "execution_count": 59,
   "id": "f8df810b-4147-40a7-a179-e0ea5626e20d",
   "metadata": {},
   "outputs": [
    {
     "data": {
      "text/plain": [
       "array([0.05, 0.0, 0.0, 0.0, 0.0, 0.0, 0.0265, 0.513, 0.0, 0.153, 0.187,\n",
       "       0.0623333333333333, 0.04, 0.0], dtype=object)"
      ]
     },
     "execution_count": 59,
     "metadata": {},
     "output_type": "execute_result"
    }
   ],
   "source": [
    "train_done[train_done.columns[0]].dropna().values"
   ]
  },
  {
   "cell_type": "code",
   "execution_count": 63,
   "id": "a57c52c0-0a98-4f7c-a767-0f033bad6edb",
   "metadata": {},
   "outputs": [
    {
     "data": {
      "text/plain": [
       "500"
      ]
     },
     "execution_count": 63,
     "metadata": {},
     "output_type": "execute_result"
    }
   ],
   "source": [
    "len(batters_limit)"
   ]
  },
  {
   "cell_type": "code",
   "execution_count": 74,
   "id": "22cc7107-ecf0-4f6e-ae9a-0d95cf54ad4e",
   "metadata": {},
   "outputs": [
    {
     "ename": "LinAlgError",
     "evalue": "115-th leading minor of the array is not positive definite",
     "output_type": "error",
     "traceback": [
      "\u001b[1;31m---------------------------------------------------------------------------\u001b[0m",
      "\u001b[1;31mLinAlgError\u001b[0m                               Traceback (most recent call last)",
      "\u001b[1;32m~\\AppData\\Local\\Temp\\ipykernel_7888\\937895143.py\u001b[0m in \u001b[0;36m<module>\u001b[1;34m\u001b[0m\n\u001b[1;32m----> 1\u001b[1;33m \u001b[0mvar_lag\u001b[0m\u001b[1;33m(\u001b[0m\u001b[0mtrain_done\u001b[0m\u001b[1;33m[\u001b[0m\u001b[0mbatters_limit\u001b[0m\u001b[1;33m]\u001b[0m\u001b[1;33m.\u001b[0m\u001b[0mfillna\u001b[0m\u001b[1;33m(\u001b[0m\u001b[1;36m0\u001b[0m\u001b[1;33m)\u001b[0m\u001b[1;33m)\u001b[0m\u001b[1;33m\u001b[0m\u001b[1;33m\u001b[0m\u001b[0m\n\u001b[0m",
      "\u001b[1;32m~\\AppData\\Local\\Temp\\ipykernel_7888\\3286170836.py\u001b[0m in \u001b[0;36mvar_lag\u001b[1;34m(data)\u001b[0m\n\u001b[0;32m      5\u001b[0m     \u001b[1;32mfor\u001b[0m \u001b[0mi\u001b[0m \u001b[1;32min\u001b[0m \u001b[1;33m[\u001b[0m\u001b[1;36m1\u001b[0m\u001b[1;33m,\u001b[0m\u001b[1;36m2\u001b[0m\u001b[1;33m,\u001b[0m\u001b[1;36m3\u001b[0m\u001b[1;33m,\u001b[0m\u001b[1;36m4\u001b[0m\u001b[1;33m,\u001b[0m\u001b[1;36m5\u001b[0m\u001b[1;33m,\u001b[0m\u001b[1;36m6\u001b[0m\u001b[1;33m,\u001b[0m\u001b[1;36m7\u001b[0m\u001b[1;33m,\u001b[0m\u001b[1;36m8\u001b[0m\u001b[1;33m,\u001b[0m\u001b[1;36m9\u001b[0m\u001b[1;33m,\u001b[0m\u001b[1;36m10\u001b[0m\u001b[1;33m]\u001b[0m\u001b[1;33m:\u001b[0m\u001b[1;33m\u001b[0m\u001b[1;33m\u001b[0m\u001b[0m\n\u001b[0;32m      6\u001b[0m         \u001b[0mresult\u001b[0m \u001b[1;33m=\u001b[0m \u001b[0mmodel\u001b[0m\u001b[1;33m.\u001b[0m\u001b[0mfit\u001b[0m\u001b[1;33m(\u001b[0m\u001b[0mi\u001b[0m\u001b[1;33m)\u001b[0m\u001b[1;33m\u001b[0m\u001b[1;33m\u001b[0m\u001b[0m\n\u001b[1;32m----> 7\u001b[1;33m         \u001b[0mresults\u001b[0m\u001b[1;33m.\u001b[0m\u001b[0mappend\u001b[0m\u001b[1;33m(\u001b[0m\u001b[0mresult\u001b[0m\u001b[1;33m.\u001b[0m\u001b[0maic\u001b[0m\u001b[1;33m)\u001b[0m\u001b[1;33m\u001b[0m\u001b[1;33m\u001b[0m\u001b[0m\n\u001b[0m\u001b[0;32m      8\u001b[0m \u001b[1;33m\u001b[0m\u001b[0m\n\u001b[0;32m      9\u001b[0m         \u001b[1;32mif\u001b[0m \u001b[0mi\u001b[0m \u001b[1;33m>\u001b[0m \u001b[1;36m2\u001b[0m\u001b[1;33m:\u001b[0m\u001b[1;33m\u001b[0m\u001b[1;33m\u001b[0m\u001b[0m\n",
      "\u001b[1;32mD:\\Python\\Anaconda3_2020.11\\envs\\env\\lib\\site-packages\\statsmodels\\base\\wrapper.py\u001b[0m in \u001b[0;36m__getattribute__\u001b[1;34m(self, attr)\u001b[0m\n\u001b[0;32m     32\u001b[0m             \u001b[1;32mpass\u001b[0m\u001b[1;33m\u001b[0m\u001b[1;33m\u001b[0m\u001b[0m\n\u001b[0;32m     33\u001b[0m \u001b[1;33m\u001b[0m\u001b[0m\n\u001b[1;32m---> 34\u001b[1;33m         \u001b[0mobj\u001b[0m \u001b[1;33m=\u001b[0m \u001b[0mgetattr\u001b[0m\u001b[1;33m(\u001b[0m\u001b[0mresults\u001b[0m\u001b[1;33m,\u001b[0m \u001b[0mattr\u001b[0m\u001b[1;33m)\u001b[0m\u001b[1;33m\u001b[0m\u001b[1;33m\u001b[0m\u001b[0m\n\u001b[0m\u001b[0;32m     35\u001b[0m         \u001b[0mdata\u001b[0m \u001b[1;33m=\u001b[0m \u001b[0mresults\u001b[0m\u001b[1;33m.\u001b[0m\u001b[0mmodel\u001b[0m\u001b[1;33m.\u001b[0m\u001b[0mdata\u001b[0m\u001b[1;33m\u001b[0m\u001b[1;33m\u001b[0m\u001b[0m\n\u001b[0;32m     36\u001b[0m         \u001b[0mhow\u001b[0m \u001b[1;33m=\u001b[0m \u001b[0mself\u001b[0m\u001b[1;33m.\u001b[0m\u001b[0m_wrap_attrs\u001b[0m\u001b[1;33m.\u001b[0m\u001b[0mget\u001b[0m\u001b[1;33m(\u001b[0m\u001b[0mattr\u001b[0m\u001b[1;33m)\u001b[0m\u001b[1;33m\u001b[0m\u001b[1;33m\u001b[0m\u001b[0m\n",
      "\u001b[1;32mD:\\Python\\Anaconda3_2020.11\\envs\\env\\lib\\site-packages\\statsmodels\\tsa\\vector_ar\\var_model.py\u001b[0m in \u001b[0;36maic\u001b[1;34m(self)\u001b[0m\n\u001b[0;32m   2292\u001b[0m     \u001b[1;32mdef\u001b[0m \u001b[0maic\u001b[0m\u001b[1;33m(\u001b[0m\u001b[0mself\u001b[0m\u001b[1;33m)\u001b[0m\u001b[1;33m:\u001b[0m\u001b[1;33m\u001b[0m\u001b[1;33m\u001b[0m\u001b[0m\n\u001b[0;32m   2293\u001b[0m         \u001b[1;34m\"\"\"Akaike information criterion\"\"\"\u001b[0m\u001b[1;33m\u001b[0m\u001b[1;33m\u001b[0m\u001b[0m\n\u001b[1;32m-> 2294\u001b[1;33m         \u001b[1;32mreturn\u001b[0m \u001b[0mself\u001b[0m\u001b[1;33m.\u001b[0m\u001b[0minfo_criteria\u001b[0m\u001b[1;33m[\u001b[0m\u001b[1;34m\"aic\"\u001b[0m\u001b[1;33m]\u001b[0m\u001b[1;33m\u001b[0m\u001b[1;33m\u001b[0m\u001b[0m\n\u001b[0m\u001b[0;32m   2295\u001b[0m \u001b[1;33m\u001b[0m\u001b[0m\n\u001b[0;32m   2296\u001b[0m     \u001b[1;33m@\u001b[0m\u001b[0mproperty\u001b[0m\u001b[1;33m\u001b[0m\u001b[1;33m\u001b[0m\u001b[0m\n",
      "\u001b[1;32mD:\\Python\\Anaconda3_2020.11\\envs\\env\\lib\\site-packages\\pandas\\_libs\\properties.pyx\u001b[0m in \u001b[0;36mpandas._libs.properties.CachedProperty.__get__\u001b[1;34m()\u001b[0m\n",
      "\u001b[1;32mD:\\Python\\Anaconda3_2020.11\\envs\\env\\lib\\site-packages\\statsmodels\\tsa\\vector_ar\\var_model.py\u001b[0m in \u001b[0;36minfo_criteria\u001b[1;34m(self)\u001b[0m\n\u001b[0;32m   2273\u001b[0m         \u001b[0mfree_params\u001b[0m \u001b[1;33m=\u001b[0m \u001b[0mlag_order\u001b[0m \u001b[1;33m*\u001b[0m \u001b[0mneqs\u001b[0m \u001b[1;33m**\u001b[0m \u001b[1;36m2\u001b[0m \u001b[1;33m+\u001b[0m \u001b[0mneqs\u001b[0m \u001b[1;33m*\u001b[0m \u001b[0mself\u001b[0m\u001b[1;33m.\u001b[0m\u001b[0mk_exog\u001b[0m\u001b[1;33m\u001b[0m\u001b[1;33m\u001b[0m\u001b[0m\n\u001b[0;32m   2274\u001b[0m         \u001b[1;32mif\u001b[0m \u001b[0mself\u001b[0m\u001b[1;33m.\u001b[0m\u001b[0mdf_resid\u001b[0m\u001b[1;33m:\u001b[0m\u001b[1;33m\u001b[0m\u001b[1;33m\u001b[0m\u001b[0m\n\u001b[1;32m-> 2275\u001b[1;33m             \u001b[0mld\u001b[0m \u001b[1;33m=\u001b[0m \u001b[0mlogdet_symm\u001b[0m\u001b[1;33m(\u001b[0m\u001b[0mself\u001b[0m\u001b[1;33m.\u001b[0m\u001b[0msigma_u_mle\u001b[0m\u001b[1;33m)\u001b[0m\u001b[1;33m\u001b[0m\u001b[1;33m\u001b[0m\u001b[0m\n\u001b[0m\u001b[0;32m   2276\u001b[0m         \u001b[1;32melse\u001b[0m\u001b[1;33m:\u001b[0m\u001b[1;33m\u001b[0m\u001b[1;33m\u001b[0m\u001b[0m\n\u001b[0;32m   2277\u001b[0m             \u001b[0mld\u001b[0m \u001b[1;33m=\u001b[0m \u001b[1;33m-\u001b[0m\u001b[0mnp\u001b[0m\u001b[1;33m.\u001b[0m\u001b[0minf\u001b[0m\u001b[1;33m\u001b[0m\u001b[1;33m\u001b[0m\u001b[0m\n",
      "\u001b[1;32mD:\\Python\\Anaconda3_2020.11\\envs\\env\\lib\\site-packages\\statsmodels\\tools\\linalg.py\u001b[0m in \u001b[0;36mlogdet_symm\u001b[1;34m(m, check_symm)\u001b[0m\n\u001b[0;32m     26\u001b[0m         \u001b[1;32mif\u001b[0m \u001b[1;32mnot\u001b[0m \u001b[0mnp\u001b[0m\u001b[1;33m.\u001b[0m\u001b[0mall\u001b[0m\u001b[1;33m(\u001b[0m\u001b[0mm\u001b[0m \u001b[1;33m==\u001b[0m \u001b[0mm\u001b[0m\u001b[1;33m.\u001b[0m\u001b[0mT\u001b[0m\u001b[1;33m)\u001b[0m\u001b[1;33m:\u001b[0m  \u001b[1;31m# would be nice to short-circuit check\u001b[0m\u001b[1;33m\u001b[0m\u001b[1;33m\u001b[0m\u001b[0m\n\u001b[0;32m     27\u001b[0m             \u001b[1;32mraise\u001b[0m \u001b[0mValueError\u001b[0m\u001b[1;33m(\u001b[0m\u001b[1;34m\"m is not symmetric.\"\u001b[0m\u001b[1;33m)\u001b[0m\u001b[1;33m\u001b[0m\u001b[1;33m\u001b[0m\u001b[0m\n\u001b[1;32m---> 28\u001b[1;33m     \u001b[0mc\u001b[0m\u001b[1;33m,\u001b[0m \u001b[0m_\u001b[0m \u001b[1;33m=\u001b[0m \u001b[0mlinalg\u001b[0m\u001b[1;33m.\u001b[0m\u001b[0mcho_factor\u001b[0m\u001b[1;33m(\u001b[0m\u001b[0mm\u001b[0m\u001b[1;33m,\u001b[0m \u001b[0mlower\u001b[0m\u001b[1;33m=\u001b[0m\u001b[1;32mTrue\u001b[0m\u001b[1;33m)\u001b[0m\u001b[1;33m\u001b[0m\u001b[1;33m\u001b[0m\u001b[0m\n\u001b[0m\u001b[0;32m     29\u001b[0m     \u001b[1;32mreturn\u001b[0m \u001b[1;36m2\u001b[0m\u001b[1;33m*\u001b[0m\u001b[0mnp\u001b[0m\u001b[1;33m.\u001b[0m\u001b[0msum\u001b[0m\u001b[1;33m(\u001b[0m\u001b[0mnp\u001b[0m\u001b[1;33m.\u001b[0m\u001b[0mlog\u001b[0m\u001b[1;33m(\u001b[0m\u001b[0mc\u001b[0m\u001b[1;33m.\u001b[0m\u001b[0mdiagonal\u001b[0m\u001b[1;33m(\u001b[0m\u001b[1;33m)\u001b[0m\u001b[1;33m)\u001b[0m\u001b[1;33m)\u001b[0m\u001b[1;33m\u001b[0m\u001b[1;33m\u001b[0m\u001b[0m\n\u001b[0;32m     30\u001b[0m \u001b[1;33m\u001b[0m\u001b[0m\n",
      "\u001b[1;32mD:\\Python\\Anaconda3_2020.11\\envs\\env\\lib\\site-packages\\scipy\\linalg\\decomp_cholesky.py\u001b[0m in \u001b[0;36mcho_factor\u001b[1;34m(a, lower, overwrite_a, check_finite)\u001b[0m\n\u001b[0;32m    151\u001b[0m     \"\"\"\n\u001b[0;32m    152\u001b[0m     c, lower = _cholesky(a, lower=lower, overwrite_a=overwrite_a, clean=False,\n\u001b[1;32m--> 153\u001b[1;33m                          check_finite=check_finite)\n\u001b[0m\u001b[0;32m    154\u001b[0m     \u001b[1;32mreturn\u001b[0m \u001b[0mc\u001b[0m\u001b[1;33m,\u001b[0m \u001b[0mlower\u001b[0m\u001b[1;33m\u001b[0m\u001b[1;33m\u001b[0m\u001b[0m\n\u001b[0;32m    155\u001b[0m \u001b[1;33m\u001b[0m\u001b[0m\n",
      "\u001b[1;32mD:\\Python\\Anaconda3_2020.11\\envs\\env\\lib\\site-packages\\scipy\\linalg\\decomp_cholesky.py\u001b[0m in \u001b[0;36m_cholesky\u001b[1;34m(a, lower, overwrite_a, clean, check_finite)\u001b[0m\n\u001b[0;32m     36\u001b[0m     \u001b[1;32mif\u001b[0m \u001b[0minfo\u001b[0m \u001b[1;33m>\u001b[0m \u001b[1;36m0\u001b[0m\u001b[1;33m:\u001b[0m\u001b[1;33m\u001b[0m\u001b[1;33m\u001b[0m\u001b[0m\n\u001b[0;32m     37\u001b[0m         raise LinAlgError(\"%d-th leading minor of the array is not positive \"\n\u001b[1;32m---> 38\u001b[1;33m                           \"definite\" % info)\n\u001b[0m\u001b[0;32m     39\u001b[0m     \u001b[1;32mif\u001b[0m \u001b[0minfo\u001b[0m \u001b[1;33m<\u001b[0m \u001b[1;36m0\u001b[0m\u001b[1;33m:\u001b[0m\u001b[1;33m\u001b[0m\u001b[1;33m\u001b[0m\u001b[0m\n\u001b[0;32m     40\u001b[0m         raise ValueError('LAPACK reported an illegal value in {}-th argument'\n",
      "\u001b[1;31mLinAlgError\u001b[0m: 115-th leading minor of the array is not positive definite"
     ]
    }
   ],
   "source": [
    "var_lag(train_done[batters_limit].fillna(0))"
   ]
  },
  {
   "cell_type": "code",
   "execution_count": null,
   "id": "cb171679-8ec0-402c-b4b8-edcce742f739",
   "metadata": {},
   "outputs": [],
   "source": []
  }
 ],
 "metadata": {
  "kernelspec": {
   "display_name": "Python 3 (ipykernel)",
   "language": "python",
   "name": "python3"
  },
  "language_info": {
   "codemirror_mode": {
    "name": "ipython",
    "version": 3
   },
   "file_extension": ".py",
   "mimetype": "text/x-python",
   "name": "python",
   "nbconvert_exporter": "python",
   "pygments_lexer": "ipython3",
   "version": "3.7.13"
  }
 },
 "nbformat": 4,
 "nbformat_minor": 5
}
