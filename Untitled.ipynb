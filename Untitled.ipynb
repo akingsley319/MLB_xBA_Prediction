{
 "cells": [
  {
   "cell_type": "code",
   "execution_count": 4,
   "id": "9c682cec-027b-4fc0-b9fa-4c4a85c90bce",
   "metadata": {},
   "outputs": [],
   "source": [
    "import pandas as pd\n",
    "import numpy as np\n",
    "\n",
    "from statsmodels.tsa.stattools import adfuller\n",
    "from statsmodels.tsa.api import VAR\n",
    "from statsmodels.tools.eval_measures import rmse, aic"
   ]
  },
  {
   "cell_type": "markdown",
   "id": "c6b54ab0-2adb-44c3-94f5-41ff226ec41b",
   "metadata": {},
   "source": [
    "# Model Selection\n",
    "\n",
    "For this project, I am employing multiple "
   ]
  },
  {
   "cell_type": "code",
   "execution_count": null,
   "id": "fbdc28ea-86f5-420d-94c2-88cfc18a56d7",
   "metadata": {},
   "outputs": [],
   "source": []
  }
 ],
 "metadata": {
  "kernelspec": {
   "display_name": "Python 3 (ipykernel)",
   "language": "python",
   "name": "python3"
  },
  "language_info": {
   "codemirror_mode": {
    "name": "ipython",
    "version": 3
   },
   "file_extension": ".py",
   "mimetype": "text/x-python",
   "name": "python",
   "nbconvert_exporter": "python",
   "pygments_lexer": "ipython3",
   "version": "3.7.13"
  }
 },
 "nbformat": 4,
 "nbformat_minor": 5
}
